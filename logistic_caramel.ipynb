{
 "cells": [
  {
   "cell_type": "code",
   "execution_count": 21,
   "metadata": {},
   "outputs": [],
   "source": [
    "import numpy as np\n",
    "import pandas as pd\n",
    "from sklearn.model_selection import train_test_split\n",
    "from sklearn.linear_model import LogisticRegression\n",
    "from sklearn.metrics import mean_squared_error, r2_score\n",
    "import matplotlib.pyplot as plt\n",
    "import seaborn as sns\n",
    "from scipy.stats import shapiro\n",
    "import scipy.stats as stats\n",
    "from scipy.stats import gamma, kstest\n",
    "from sklearn.preprocessing import LabelEncoder"
   ]
  },
  {
   "cell_type": "code",
   "execution_count": 22,
   "metadata": {},
   "outputs": [],
   "source": [
    "\n",
    "\n",
    "data = pd.read_csv('candy-data.csv')\n",
    "\n",
    "candy_class = data['caramel']"
   ]
  },
  {
   "cell_type": "code",
   "execution_count": 23,
   "metadata": {},
   "outputs": [
    {
     "name": "stdout",
     "output_type": "stream",
     "text": [
      "0     1\n",
      "1     0\n",
      "2     0\n",
      "3     0\n",
      "4     0\n",
      "     ..\n",
      "80    0\n",
      "81    0\n",
      "82    0\n",
      "83    1\n",
      "84    0\n",
      "Name: caramel, Length: 85, dtype: int64\n"
     ]
    }
   ],
   "source": [
    "print (candy_class)"
   ]
  },
  {
   "cell_type": "code",
   "execution_count": 24,
   "metadata": {},
   "outputs": [
    {
     "name": "stdout",
     "output_type": "stream",
     "text": [
      "Accuracy: 0.85\n",
      "              precision    recall  f1-score   support\n",
      "\n",
      "           0       0.85      1.00      0.92        22\n",
      "           1       0.00      0.00      0.00         4\n",
      "\n",
      "    accuracy                           0.85        26\n",
      "   macro avg       0.42      0.50      0.46        26\n",
      "weighted avg       0.72      0.85      0.78        26\n",
      "\n",
      "Example 1:\n",
      "Features: {'chocolate': 0.0, 'fruity': 1.0, 'peanutyalmondy': 0.0, 'nougat': 0.0, 'crispedricewafer': 0.0, 'hard': 0.0, 'bar': 0.0, 'pluribus': 1.0, 'sugarpercent': 0.31299999, 'pricepercent': 0.255, 'winpercent': 47.173229}\n",
      "Predicted label: 0, Actual label: 0\n",
      "\n",
      "Example 2:\n",
      "Features: {'chocolate': 1.0, 'fruity': 0.0, 'peanutyalmondy': 0.0, 'nougat': 0.0, 'crispedricewafer': 1.0, 'hard': 0.0, 'bar': 1.0, 'pluribus': 0.0, 'sugarpercent': 0.73199999, 'pricepercent': 0.86000001, 'winpercent': 66.971725}\n",
      "Predicted label: 0, Actual label: 1\n",
      "\n",
      "Example 3:\n",
      "Features: {'chocolate': 0.0, 'fruity': 1.0, 'peanutyalmondy': 0.0, 'nougat': 0.0, 'crispedricewafer': 0.0, 'hard': 0.0, 'bar': 0.0, 'pluribus': 1.0, 'sugarpercent': 0.15099999, 'pricepercent': 0.22, 'winpercent': 67.037628}\n",
      "Predicted label: 0, Actual label: 0\n",
      "\n",
      "Example 4:\n",
      "Features: {'chocolate': 1.0, 'fruity': 0.0, 'peanutyalmondy': 0.0, 'nougat': 0.0, 'crispedricewafer': 0.0, 'hard': 0.0, 'bar': 0.0, 'pluribus': 1.0, 'sugarpercent': 0.127, 'pricepercent': 0.093000002, 'winpercent': 55.375454}\n",
      "Predicted label: 0, Actual label: 0\n",
      "\n",
      "Example 5:\n",
      "Features: {'chocolate': 0.0, 'fruity': 1.0, 'peanutyalmondy': 0.0, 'nougat': 0.0, 'crispedricewafer': 0.0, 'hard': 0.0, 'bar': 0.0, 'pluribus': 1.0, 'sugarpercent': 0.046, 'pricepercent': 0.32499999, 'winpercent': 24.524988}\n",
      "Predicted label: 0, Actual label: 0\n",
      "\n"
     ]
    },
    {
     "name": "stderr",
     "output_type": "stream",
     "text": [
      "c:\\Users\\Lesia\\AppData\\Local\\Programs\\Python\\Python310\\lib\\site-packages\\sklearn\\metrics\\_classification.py:1471: UndefinedMetricWarning: Precision and F-score are ill-defined and being set to 0.0 in labels with no predicted samples. Use `zero_division` parameter to control this behavior.\n",
      "  _warn_prf(average, modifier, msg_start, len(result))\n",
      "c:\\Users\\Lesia\\AppData\\Local\\Programs\\Python\\Python310\\lib\\site-packages\\sklearn\\metrics\\_classification.py:1471: UndefinedMetricWarning: Precision and F-score are ill-defined and being set to 0.0 in labels with no predicted samples. Use `zero_division` parameter to control this behavior.\n",
      "  _warn_prf(average, modifier, msg_start, len(result))\n",
      "c:\\Users\\Lesia\\AppData\\Local\\Programs\\Python\\Python310\\lib\\site-packages\\sklearn\\metrics\\_classification.py:1471: UndefinedMetricWarning: Precision and F-score are ill-defined and being set to 0.0 in labels with no predicted samples. Use `zero_division` parameter to control this behavior.\n",
      "  _warn_prf(average, modifier, msg_start, len(result))\n"
     ]
    }
   ],
   "source": [
    "# logistic for caramel - class\n",
    "\n",
    "data = data.drop(data.columns[0], axis=1)\n",
    "\n",
    "X = data.drop(columns=['caramel'])\n",
    "y = data['caramel']\n",
    "\n",
    "X_train, X_test, y_train, y_test = train_test_split(X, y, test_size=0.3, random_state=42)\n",
    "model = LogisticRegression()\n",
    "model.fit(X_train, y_train)\n",
    "\n",
    "y_pred = model.predict(X_test)\n",
    "accuracy = accuracy_score(y_test, y_pred)\n",
    "print(f'Accuracy: {accuracy:.2f}')\n",
    "print(classification_report(y_test, y_pred))\n",
    "\n",
    "examples = X_test.head()\n",
    "example_predictions = model.predict(examples)\n",
    "for i, (index, example) in enumerate(examples.iterrows()):\n",
    "    print(f'Example {i+1}:')\n",
    "    print(f'Features: {example.to_dict()}')\n",
    "    print(f'Predicted label: {example_predictions[i]}, Actual label: {y_test.loc[index]}')\n",
    "    print()"
   ]
  }
 ],
 "metadata": {
  "kernelspec": {
   "display_name": "Python 3",
   "language": "python",
   "name": "python3"
  },
  "language_info": {
   "codemirror_mode": {
    "name": "ipython",
    "version": 3
   },
   "file_extension": ".py",
   "mimetype": "text/x-python",
   "name": "python",
   "nbconvert_exporter": "python",
   "pygments_lexer": "ipython3",
   "version": "3.10.0"
  }
 },
 "nbformat": 4,
 "nbformat_minor": 2
}
